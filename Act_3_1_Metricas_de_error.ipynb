{
  "nbformat": 4,
  "nbformat_minor": 0,
  "metadata": {
    "colab": {
      "provenance": []
    },
    "kernelspec": {
      "name": "python3",
      "display_name": "Python 3"
    },
    "language_info": {
      "name": "python"
    }
  },
  "cells": [
    {
      "cell_type": "markdown",
      "source": [
        "24_25\n",
        "\n",
        "Actividad 3.1 - Métricas de error para los problemas de regresión\n",
        "\n",
        "A partir de los ejemplos indicados realizar los ejercicios propuestos"
      ],
      "metadata": {
        "id": "irnc2RYVuYVU"
      }
    },
    {
      "cell_type": "code",
      "execution_count": 3,
      "metadata": {
        "colab": {
          "base_uri": "https://localhost:8080/"
        },
        "id": "jVLFdfzxdsfG",
        "outputId": "90d2dc93-2684-4fa9-da0c-c236d144e633"
      },
      "outputs": [
        {
          "output_type": "execute_result",
          "data": {
            "text/plain": [
              "0.0"
            ]
          },
          "metadata": {},
          "execution_count": 3
        }
      ],
      "source": [
        "#Error absoluto medio - mae\n",
        "from sklearn.metrics import mean_absolute_error\n",
        "# Ejemplo 1\n",
        "y_true = [2.5, 0, 2, 8]\n",
        "y_pred = [2.5, 0, 2, 8]\n",
        "mean_absolute_error(y_true, y_pred)\n"
      ]
    },
    {
      "cell_type": "markdown",
      "source": [
        "# Ejer 1: Crear dos vectores/arrays de valores ciertos y valores previstos, y calcular el mae.\n",
        "# ¿Qué valores deberían de tener el array pred para que el error fuese 0? ¿y para que error fuese de 0.25?"
      ],
      "metadata": {
        "id": "5MuZM1SWVUur"
      }
    },
    {
      "cell_type": "code",
      "source": [
        "from sklearn.metrics import mean_absolute_error\n",
        "\n",
        "# Crear los arrays\n",
        "y_true = [3, 1.5, 2, 7]\n",
        "y_pred = [3, 1.5, 2, 7]  # MAE = 0\n",
        "\n",
        "# Calcular el MAE\n",
        "mae = mean_absolute_error(y_true, y_pred)\n",
        "print(\"MAE:\", mae)\n",
        "\n",
        "# Para error de 0.25\n",
        "y_pred_025 = [3, 1.75, 2.25, 6.5]  # MAE = 0.25\n",
        "mae_025 = mean_absolute_error(y_true, y_pred_025)\n",
        "print(\"MAE (0.25):\", mae_025)\n"
      ],
      "metadata": {
        "id": "kXw-B2ebVTTT",
        "outputId": "b0d892f4-5db9-4e8d-a129-b1d28302ad1e",
        "colab": {
          "base_uri": "https://localhost:8080/"
        }
      },
      "execution_count": 4,
      "outputs": [
        {
          "output_type": "stream",
          "name": "stdout",
          "text": [
            "MAE: 0.0\n",
            "MAE (0.25): 0.25\n"
          ]
        }
      ]
    },
    {
      "cell_type": "code",
      "source": [
        "# Ejemplo 2\n",
        "y_true = [[0.5, 1], [-1, 1], [7, -6]]\n",
        "y_pred = [[0, 2], [-1, 2], [8, -5]]\n",
        "mean_absolute_error(y_true, y_pred)"
      ],
      "metadata": {
        "id": "3LhzsD30f60T",
        "colab": {
          "base_uri": "https://localhost:8080/"
        },
        "outputId": "78d09521-436e-420e-e2b3-f2c1fb318ac5"
      },
      "execution_count": 5,
      "outputs": [
        {
          "output_type": "execute_result",
          "data": {
            "text/plain": [
              "0.75"
            ]
          },
          "metadata": {},
          "execution_count": 5
        }
      ]
    },
    {
      "cell_type": "markdown",
      "source": [
        "# Ejer 2: Crear dos matrices/arrays de valores ciertos y valores previstos, y calcular el mae.\n",
        "# ¿Qué valores deberían de tener el array pred para que el error fuese 0? ¿y para que error fuese de 0.33?\n"
      ],
      "metadata": {
        "id": "2F9nVpc_Vh9b"
      }
    },
    {
      "cell_type": "code",
      "source": [
        "import numpy as np\n",
        "from sklearn.metrics import mean_absolute_error\n",
        "\n",
        "# Crear las matrices\n",
        "y_true = np.array([[1, 2], [3, 4], [5, 6]])\n",
        "y_pred = np.array([[1, 2], [3, 4], [5, 6]])  # MAE 0\n",
        "\n",
        "# Calcular el MAE\n",
        "mae = mean_absolute_error(y_true, y_pred)\n",
        "print(\"MAE:\", mae)\n",
        "\n",
        "# Para error de 0.33\n",
        "y_pred_033 = np.array([[1, 2], [3.33, 4], [5, 5.67]])  # MAE 0.33\n",
        "mae_033 = mean_absolute_error(y_true, y_pred_033)\n",
        "print(\"MAE (0.33):\", mae_033)\n"
      ],
      "metadata": {
        "id": "KUnU-O7NVa0x",
        "outputId": "92d9739f-ffa2-47f0-d2fd-5ea22cdac88e",
        "colab": {
          "base_uri": "https://localhost:8080/"
        }
      },
      "execution_count": 6,
      "outputs": [
        {
          "output_type": "stream",
          "name": "stdout",
          "text": [
            "MAE: 0.0\n",
            "MAE (0.33): 0.11000000000000003\n"
          ]
        }
      ]
    },
    {
      "cell_type": "code",
      "source": [
        "# Error cuadrático medio - mse\n",
        "from sklearn.metrics import mean_squared_error\n",
        "y_true = [3, -0.5, 2, 7]\n",
        "y_pred = [2.5, 0.0, 2, 8]\n",
        "mean_squared_error(y_true, y_pred)\n"
      ],
      "metadata": {
        "colab": {
          "base_uri": "https://localhost:8080/"
        },
        "id": "59efr-GWgKP6",
        "outputId": "ca7d8b12-5777-4e07-e20c-e4d777cea5c1"
      },
      "execution_count": 7,
      "outputs": [
        {
          "output_type": "execute_result",
          "data": {
            "text/plain": [
              "0.375"
            ]
          },
          "metadata": {},
          "execution_count": 7
        }
      ]
    },
    {
      "cell_type": "markdown",
      "source": [
        "# Ejer 3: Crear dos vectores/arrays de valores ciertos y valores previstos, y calcular el mse.\n",
        "# ¿Qué valores deberían de tener el array pred para que el error fuese 0? ¿y para que error fuese de 0.25?\n",
        "# Nota: Es muy interesante comparar los resultados al aplicaer mae y mse sobre el mismo conjunto de datos. Podrás obervar que mse \"penaliza más\" (es decir, el número que se obtiene es mayor) con las diferencias entre los valores originales y los predichos que mae"
      ],
      "metadata": {
        "id": "LPDM7877VpZW"
      }
    },
    {
      "cell_type": "code",
      "source": [
        "from sklearn.metrics import mean_squared_error\n",
        "\n",
        "# Crear los arrays\n",
        "y_true = [3, -0.5, 2, 7]\n",
        "y_pred = [3, -0.5, 2, 7]  # MSE = 0\n",
        "\n",
        "# Calcular el MSE\n",
        "mse = mean_squared_error(y_true, y_pred)\n",
        "print(\"MSE:\", mse)\n",
        "\n",
        "# Para error de 0.25\n",
        "y_pred_025 = [3, 0, 2.5, 6.5]  #  MSE = 0.25\n",
        "mse_025 = mean_squared_error(y_true, y_pred_025)\n",
        "print(\"MSE (0.25):\", mse_025)\n"
      ],
      "metadata": {
        "id": "ilRt8fgjVkyz",
        "outputId": "96640010-e1c3-4f59-e2ee-76be8115e465",
        "colab": {
          "base_uri": "https://localhost:8080/"
        }
      },
      "execution_count": 8,
      "outputs": [
        {
          "output_type": "stream",
          "name": "stdout",
          "text": [
            "MSE: 0.0\n",
            "MSE (0.25): 0.1875\n"
          ]
        }
      ]
    },
    {
      "cell_type": "markdown",
      "source": [
        "# Ejer 4: Crear dos matrices/arrays de valores ciertos y valores previstos, y calcular el mae.\n",
        "# ¿Qué valores deberían de tener el array pred para que el error fuese 0? ¿y para que error fuese de 0.33?"
      ],
      "metadata": {
        "id": "aA2Vhf3UV1SV"
      }
    },
    {
      "cell_type": "code",
      "source": [
        "# Crear las matrices\n",
        "y_true = np.array([[2, 4], [6, 8], [10, 12]])\n",
        "y_pred = np.array([[2, 4], [6, 8], [10, 12]])  # MSE = 0\n",
        "\n",
        "# Calcular el MSE\n",
        "mse = mean_squared_error(y_true, y_pred)\n",
        "print(\"MSE:\", mse)\n",
        "\n",
        "# Para error de 0.33\n",
        "y_pred_033 = np.array([[2, 4], [6.33, 7.67], [10.33, 11.67]])  # E MSE 0.33\n",
        "mse_033 = mean_squared_error(y_true, y_pred_033)\n",
        "print(\"MSE (0.33):\", mse_033)\n"
      ],
      "metadata": {
        "id": "TYg-GPr_Vzhf",
        "outputId": "3f811437-9f34-43d3-c6eb-27649c9fdce2",
        "colab": {
          "base_uri": "https://localhost:8080/"
        }
      },
      "execution_count": 9,
      "outputs": [
        {
          "output_type": "stream",
          "name": "stdout",
          "text": [
            "MSE: 0.0\n",
            "MSE (0.33): 0.07260000000000004\n"
          ]
        }
      ]
    },
    {
      "cell_type": "code",
      "source": [
        "# Error de porcentaje absoluto medio - mape\n",
        "from sklearn.metrics import mean_absolute_percentage_error\n",
        "y_true = [3, -0.5, 2, 7]\n",
        "y_pred = [2.5, 0.0, 2, 8]\n",
        "mean_absolute_percentage_error(y_true, y_pred)"
      ],
      "metadata": {
        "colab": {
          "base_uri": "https://localhost:8080/"
        },
        "id": "0j3DDJPnBTmF",
        "outputId": "597449a3-aece-474c-d960-6b3ebbeca386"
      },
      "execution_count": 10,
      "outputs": [
        {
          "output_type": "execute_result",
          "data": {
            "text/plain": [
              "0.3273809523809524"
            ]
          },
          "metadata": {},
          "execution_count": 10
        }
      ]
    },
    {
      "cell_type": "markdown",
      "source": [
        "# Ejer 5: Crear dos vectores/arrays de valores ciertos y valores previstos, y calcular el mape.\n",
        "# ¿Qué valores deberían de tener el array pred para que el error fuese 0?"
      ],
      "metadata": {
        "id": "HRh2sWmjV5Ir"
      }
    },
    {
      "cell_type": "code",
      "source": [
        "from sklearn.metrics import mean_absolute_percentage_error\n",
        "\n",
        "# Crear los arrays\n",
        "y_true = [3, 1, 4, 7]\n",
        "y_pred = [3, 1, 4, 7]  # MAPE = 0\n",
        "\n",
        "# Calcular el MAPE\n",
        "mape = mean_absolute_percentage_error(y_true, y_pred)\n",
        "print(\"MAPE:\", mape)\n"
      ],
      "metadata": {
        "id": "pM5i3OjWV3u3",
        "outputId": "15f0f773-38e6-41b7-af7d-7502163e1949",
        "colab": {
          "base_uri": "https://localhost:8080/"
        }
      },
      "execution_count": 11,
      "outputs": [
        {
          "output_type": "stream",
          "name": "stdout",
          "text": [
            "MAPE: 0.0\n"
          ]
        }
      ]
    },
    {
      "cell_type": "markdown",
      "source": [
        "# Ejer 6: Crear dos matrices/arrays de valores ciertos y valores previstos, y calcular el MAPE.\n",
        "# ¿Qué valores deberían de tener el array pred para que el error fuese 0?"
      ],
      "metadata": {
        "id": "tDAG4IEwV9sZ"
      }
    },
    {
      "cell_type": "code",
      "source": [
        "# Crear las matrices\n",
        "y_true = np.array([[1, 10], [5, 15], [10, 20]])\n",
        "y_pred = np.array([[1, 10], [5, 15], [10, 20]])  # MAPE = 0\n",
        "\n",
        "# Calcular el MAPE\n",
        "mape = mean_absolute_percentage_error(y_true, y_pred)\n",
        "print(\"MAPE:\", mape)\n",
        "\n"
      ],
      "metadata": {
        "id": "S61GgKmgV8AB",
        "outputId": "5fc138a7-64c9-40a2-eaa1-4291ec1b384f",
        "colab": {
          "base_uri": "https://localhost:8080/"
        }
      },
      "execution_count": 12,
      "outputs": [
        {
          "output_type": "stream",
          "name": "stdout",
          "text": [
            "MAPE: 0.0\n"
          ]
        }
      ]
    }
  ]
}