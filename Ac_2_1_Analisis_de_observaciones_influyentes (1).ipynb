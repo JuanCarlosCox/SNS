{
  "nbformat": 4,
  "nbformat_minor": 0,
  "metadata": {
    "colab": {
      "provenance": []
    },
    "kernelspec": {
      "name": "python3",
      "display_name": "Python 3"
    },
    "language_info": {
      "name": "python"
    }
  },
  "cells": [
    {
      "cell_type": "markdown",
      "source": [
        "# Juan Carlos Cox Fernández"
      ],
      "metadata": {
        "id": "tn4N2mG0hgbb"
      }
    },
    {
      "cell_type": "markdown",
      "source": [
        "# Parte 1"
      ],
      "metadata": {
        "id": "Be1CbU_8WpKL"
      }
    },
    {
      "cell_type": "markdown",
      "source": [
        "## DATOS"
      ],
      "metadata": {
        "id": "I9W4kf8AU4kk"
      }
    },
    {
      "cell_type": "code",
      "source": [
        "# LIBRERÍAS EMPLEADAS EN EL EJEMPLO\n",
        "# Tratamiento de datos\n",
        "# ==============================================================================\n",
        "import numpy as np\n",
        "import pandas as pd\n",
        "\n",
        "# Generación de datos\n",
        "# ==============================================================================\n",
        "# Generamos (100 elementos) ingresos uniformemente distribuidos en [15000,25000]\n",
        "datos = 15000+np.random.rand(100)*10000\n",
        "datos_ord = datos\n",
        "datos_ord.sort()\n",
        "datos"
      ],
      "metadata": {
        "colab": {
          "base_uri": "https://localhost:8080/"
        },
        "id": "XFdZdSpJU67z",
        "outputId": "bf27fc2d-e903-4178-d249-4cfa6b6e1464"
      },
      "execution_count": 1,
      "outputs": [
        {
          "output_type": "execute_result",
          "data": {
            "text/plain": [
              "array([15117.59270804, 15218.23210291, 15323.30996276, 15340.09578634,\n",
              "       15589.6143342 , 15872.83304919, 15905.35343362, 15951.34712246,\n",
              "       16037.3801826 , 16044.3749953 , 16083.88632732, 16531.57931725,\n",
              "       16592.74064414, 16628.51915352, 16631.03122576, 16652.69305468,\n",
              "       17078.28458566, 17246.8738888 , 17375.88747718, 17391.44309838,\n",
              "       17484.49177238, 17537.93592942, 17681.5698206 , 17705.5152224 ,\n",
              "       17923.87069751, 17951.9060886 , 18267.23101555, 18400.77654728,\n",
              "       18461.31671965, 18596.89133197, 18624.58427354, 18890.76623981,\n",
              "       18926.93526296, 19162.11525992, 19235.11094613, 19253.5100397 ,\n",
              "       19511.0756804 , 19567.88218036, 19664.68679574, 19718.82739101,\n",
              "       19779.27243717, 19981.97452116, 20009.28893663, 20018.1508851 ,\n",
              "       20297.54908293, 20363.85814572, 20478.02308368, 20511.97722328,\n",
              "       20537.89230553, 20567.01274124, 20575.28528423, 20701.58719329,\n",
              "       20856.5805866 , 20886.87703932, 20978.55190839, 21092.69823736,\n",
              "       21203.05121942, 21433.68738228, 21504.21251031, 21559.25413129,\n",
              "       21567.52042644, 21599.73674962, 21704.89340079, 21720.17480728,\n",
              "       21774.12191973, 21806.09230656, 22074.40359401, 22122.76694574,\n",
              "       22281.00850998, 22311.19162022, 22353.03868203, 22518.98726822,\n",
              "       22542.67245155, 22577.59234076, 22661.5093429 , 22721.02502586,\n",
              "       22850.75635902, 22890.66533707, 22929.67533517, 23088.39924617,\n",
              "       23155.78420232, 23160.83713153, 23175.39834878, 23228.17541853,\n",
              "       23282.3069263 , 23296.28354927, 23353.01618395, 23560.42855744,\n",
              "       23645.23726095, 23823.55111912, 23995.25563852, 24023.07006278,\n",
              "       24257.68087236, 24292.55420715, 24327.65785207, 24442.71506757,\n",
              "       24772.1260972 , 24780.01839762, 24794.99684674, 24917.98356106])"
            ]
          },
          "metadata": {},
          "execution_count": 1
        }
      ]
    },
    {
      "cell_type": "markdown",
      "source": [
        "## Pregunta a)\n",
        "## Calcular la media y la mediana antes de incluir un ingreso de 500,000€."
      ],
      "metadata": {
        "id": "9e_LpxtLUr81"
      }
    },
    {
      "cell_type": "code",
      "execution_count": 3,
      "metadata": {
        "colab": {
          "base_uri": "https://localhost:8080/"
        },
        "id": "GLO2qXdcUjum",
        "outputId": "48004bb6-691c-4dbb-9ac3-3bef9f1a7be5"
      },
      "outputs": [
        {
          "output_type": "stream",
          "name": "stdout",
          "text": [
            "Media antes de incluir 500,000€: 20348.981654903622\n",
            "Mediana antes de incluir 500,000€: 20571.14901273608\n"
          ]
        }
      ],
      "source": [
        "import numpy as np\n",
        "\n",
        "\n",
        "# Cálculo de media y mediana\n",
        "media_antes = np.mean(datos)\n",
        "mediana_antes = np.median(datos)\n",
        "\n",
        "print(f\"Media antes de incluir 500,000€: {media_antes}\")\n",
        "print(f\"Mediana antes de incluir 500,000€: {mediana_antes}\")"
      ]
    },
    {
      "cell_type": "markdown",
      "source": [
        "## Pregunta b)\n",
        "## Aplicar el método de Probabilidad Global para detectar outliers tras incluir el ingreso de 500,000€."
      ],
      "metadata": {
        "id": "wT_w99BvVHUr"
      }
    },
    {
      "cell_type": "code",
      "source": [
        "import scipy.stats as st\n",
        "\n",
        "# Agregar el ingreso extremo\n",
        "datos[50]=500000\n",
        "\n",
        "# Cálculo de probabilidad global\n",
        "p_g = 0.95\n",
        "alfa_g = (1 - p_g) / 2\n",
        "alfa = 1 - (1 - alfa_g) ** (1 / len(datos))\n",
        "Z_alfa = st.norm.ppf(1 - alfa / 2)\n",
        "\n",
        "# Bandas basadas en probabilidad global\n",
        "media_modificada = np.mean(datos)\n",
        "std_modificada = np.std(datos)\n",
        "xL = media_modificada - Z_alfa * std_modificada\n",
        "xU = media_modificada + Z_alfa * std_modificada\n",
        "\n",
        "# Identificación de outliers\n",
        "outliers = [(i, d) for i, d in enumerate(datos) if d < xL or d > xU]\n",
        "\n",
        "print(f\"Media después de incluir 500,000€: {media_modificada}\")\n",
        "print(f\"Bandas: [{xL:.2f}, {xU:.2f}]\")\n",
        "print(f\"Outliers detectados: {outliers}\")\n"
      ],
      "metadata": {
        "colab": {
          "base_uri": "https://localhost:8080/"
        },
        "id": "ABxr9XkeVHDM",
        "outputId": "d43d3327-5d67-4373-9651-cc959b45e5cc"
      },
      "execution_count": 5,
      "outputs": [
        {
          "output_type": "stream",
          "name": "stdout",
          "text": [
            "Media después de incluir 500,000€: 25143.22880206126\n",
            "Bandas: [-149779.25, 200065.71]\n",
            "Outliers detectados: [(50, 500000.0)]\n"
          ]
        }
      ]
    },
    {
      "cell_type": "markdown",
      "source": [
        "## Pregunta c)\n",
        "## Repetir el procedimiento para la mediana: ¿Qué ocurre?"
      ],
      "metadata": {
        "id": "epYPXOPHWBfU"
      }
    },
    {
      "cell_type": "code",
      "source": [
        "# Usar mediana y MAD (Median Absolute Deviation) para detectar outliers\n",
        "from statsmodels.robust.scale import mad\n",
        "\n",
        "mediana_modificada = np.median(datos)\n",
        "mad_modificada = mad(datos)\n",
        "Z_mediana = 3  # Valor crítico para detectar outliers (aproximado)\n",
        "\n",
        "# Bandas usando la mediana\n",
        "xL_median = mediana_modificada - Z_mediana * mad_modificada\n",
        "xU_median = mediana_modificada + Z_mediana * mad_modificada\n",
        "\n",
        "# Identificación de outliers\n",
        "outliers_median = [(i, d) for i, d in enumerate(datos) if d < xL_median or d > xU_median]\n",
        "\n",
        "print(f\"Mediana después de incluir 500,000€: {mediana_modificada}\")\n",
        "print(f\"Bandas con mediana: [{xL_median:.2f}, {xU_median:.2f}]\")\n",
        "print(f\"Outliers detectados con mediana: {outliers_median}\")\n"
      ],
      "metadata": {
        "colab": {
          "base_uri": "https://localhost:8080/"
        },
        "id": "uN1oLw7VWDUb",
        "outputId": "525e3cd0-6d9d-4fb0-f9eb-19a848c10968"
      },
      "execution_count": 6,
      "outputs": [
        {
          "output_type": "stream",
          "name": "stdout",
          "text": [
            "Mediana después de incluir 500,000€: 20634.299967262858\n",
            "Bandas con mediana: [10511.67, 30756.93]\n",
            "Outliers detectados con mediana: [(50, 500000.0)]\n"
          ]
        }
      ]
    },
    {
      "cell_type": "markdown",
      "source": [
        "### Explicación"
      ],
      "metadata": {
        "id": "7F6MFlnTWapN"
      }
    },
    {
      "cell_type": "markdown",
      "source": [
        "La mediana es resistente a valores extremos, por lo que incluir el ingreso de 500,000€ no afectará significativamente su cálculo. Sin embargo, al usar el método de probabilidad global para detectar outliers basándonos en la mediana, los resultados pueden diferir porque las bandas estarán menos influenciadas por la presencia del ingreso extremo."
      ],
      "metadata": {
        "id": "876s7vyqWW1s"
      }
    },
    {
      "cell_type": "markdown",
      "source": [
        "# Parte 2"
      ],
      "metadata": {
        "id": "CX47yI6BWZDb"
      }
    },
    {
      "cell_type": "markdown",
      "source": [
        "## Pregunta a)\n",
        "## Calcular la media, mediana, desviación estándar muestral, varianza muestral y el rango de la variable X, donde X=[1,2,3,4,5,6,7,8,9,10]."
      ],
      "metadata": {
        "id": "TRodZVmJXjWT"
      }
    },
    {
      "cell_type": "code",
      "source": [
        "import numpy as np\n",
        "\n",
        "# Datos de la variable X\n",
        "X = np.array([1, 2, 3, 4, 5, 6, 7, 8, 9, 10])\n",
        "\n",
        "# Cálculos\n",
        "media = np.mean(X)\n",
        "mediana = np.median(X)\n",
        "desviacion_estandar = np.std(X, ddof=0)\n",
        "varianza = np.var(X, ddof=0)\n",
        "Minimo = np.min(X)\n",
        "Maximo = np.max(X)\n",
        "\n",
        "print(f\"Media: {media}\")\n",
        "print(f\"Mediana: {mediana}\")\n",
        "print(f\"Desviación estándar muestral: {desviacion_estandar}\")\n",
        "print(f\"Varianza muestral: {varianza}\")\n",
        "print(f\"Minimo: {Minimo}\")\n",
        "print(f\"Maximo: {Maximo}\")\n"
      ],
      "metadata": {
        "colab": {
          "base_uri": "https://localhost:8080/"
        },
        "id": "6qsW79KKWYJj",
        "outputId": "1ca51054-fdfc-41c1-ba36-82e3c486fb3d"
      },
      "execution_count": 17,
      "outputs": [
        {
          "output_type": "stream",
          "name": "stdout",
          "text": [
            "Media: 5.5\n",
            "Mediana: 5.5\n",
            "Desviación estándar muestral: 2.8722813232690143\n",
            "Varianza muestral: 8.25\n",
            "Minimo: 1\n",
            "Maximo: 10\n"
          ]
        }
      ]
    },
    {
      "cell_type": "markdown",
      "source": [
        "## Pregunta b)\n",
        "## Utilizar la función describe() de Pandas para obtener los mismos valores."
      ],
      "metadata": {
        "id": "TLtKB-W3YOkq"
      }
    },
    {
      "cell_type": "code",
      "source": [
        "import pandas as pd\n",
        "\n",
        "# Crear un DataFrame\n",
        "data = pd.DataFrame({'X': X})\n",
        "\n",
        "data.describe()\n"
      ],
      "metadata": {
        "colab": {
          "base_uri": "https://localhost:8080/",
          "height": 300
        },
        "id": "XlPiIOYQYRGz",
        "outputId": "9b4315f0-2ab8-40de-aa84-fa1a48cf4b5e"
      },
      "execution_count": 8,
      "outputs": [
        {
          "output_type": "execute_result",
          "data": {
            "text/plain": [
              "              X\n",
              "count  10.00000\n",
              "mean    5.50000\n",
              "std     3.02765\n",
              "min     1.00000\n",
              "25%     3.25000\n",
              "50%     5.50000\n",
              "75%     7.75000\n",
              "max    10.00000"
            ],
            "text/html": [
              "\n",
              "  <div id=\"df-bc9a7361-b658-46c0-9b77-f2b631a74198\" class=\"colab-df-container\">\n",
              "    <div>\n",
              "<style scoped>\n",
              "    .dataframe tbody tr th:only-of-type {\n",
              "        vertical-align: middle;\n",
              "    }\n",
              "\n",
              "    .dataframe tbody tr th {\n",
              "        vertical-align: top;\n",
              "    }\n",
              "\n",
              "    .dataframe thead th {\n",
              "        text-align: right;\n",
              "    }\n",
              "</style>\n",
              "<table border=\"1\" class=\"dataframe\">\n",
              "  <thead>\n",
              "    <tr style=\"text-align: right;\">\n",
              "      <th></th>\n",
              "      <th>X</th>\n",
              "    </tr>\n",
              "  </thead>\n",
              "  <tbody>\n",
              "    <tr>\n",
              "      <th>count</th>\n",
              "      <td>10.00000</td>\n",
              "    </tr>\n",
              "    <tr>\n",
              "      <th>mean</th>\n",
              "      <td>5.50000</td>\n",
              "    </tr>\n",
              "    <tr>\n",
              "      <th>std</th>\n",
              "      <td>3.02765</td>\n",
              "    </tr>\n",
              "    <tr>\n",
              "      <th>min</th>\n",
              "      <td>1.00000</td>\n",
              "    </tr>\n",
              "    <tr>\n",
              "      <th>25%</th>\n",
              "      <td>3.25000</td>\n",
              "    </tr>\n",
              "    <tr>\n",
              "      <th>50%</th>\n",
              "      <td>5.50000</td>\n",
              "    </tr>\n",
              "    <tr>\n",
              "      <th>75%</th>\n",
              "      <td>7.75000</td>\n",
              "    </tr>\n",
              "    <tr>\n",
              "      <th>max</th>\n",
              "      <td>10.00000</td>\n",
              "    </tr>\n",
              "  </tbody>\n",
              "</table>\n",
              "</div>\n",
              "    <div class=\"colab-df-buttons\">\n",
              "\n",
              "  <div class=\"colab-df-container\">\n",
              "    <button class=\"colab-df-convert\" onclick=\"convertToInteractive('df-bc9a7361-b658-46c0-9b77-f2b631a74198')\"\n",
              "            title=\"Convert this dataframe to an interactive table.\"\n",
              "            style=\"display:none;\">\n",
              "\n",
              "  <svg xmlns=\"http://www.w3.org/2000/svg\" height=\"24px\" viewBox=\"0 -960 960 960\">\n",
              "    <path d=\"M120-120v-720h720v720H120Zm60-500h600v-160H180v160Zm220 220h160v-160H400v160Zm0 220h160v-160H400v160ZM180-400h160v-160H180v160Zm440 0h160v-160H620v160ZM180-180h160v-160H180v160Zm440 0h160v-160H620v160Z\"/>\n",
              "  </svg>\n",
              "    </button>\n",
              "\n",
              "  <style>\n",
              "    .colab-df-container {\n",
              "      display:flex;\n",
              "      gap: 12px;\n",
              "    }\n",
              "\n",
              "    .colab-df-convert {\n",
              "      background-color: #E8F0FE;\n",
              "      border: none;\n",
              "      border-radius: 50%;\n",
              "      cursor: pointer;\n",
              "      display: none;\n",
              "      fill: #1967D2;\n",
              "      height: 32px;\n",
              "      padding: 0 0 0 0;\n",
              "      width: 32px;\n",
              "    }\n",
              "\n",
              "    .colab-df-convert:hover {\n",
              "      background-color: #E2EBFA;\n",
              "      box-shadow: 0px 1px 2px rgba(60, 64, 67, 0.3), 0px 1px 3px 1px rgba(60, 64, 67, 0.15);\n",
              "      fill: #174EA6;\n",
              "    }\n",
              "\n",
              "    .colab-df-buttons div {\n",
              "      margin-bottom: 4px;\n",
              "    }\n",
              "\n",
              "    [theme=dark] .colab-df-convert {\n",
              "      background-color: #3B4455;\n",
              "      fill: #D2E3FC;\n",
              "    }\n",
              "\n",
              "    [theme=dark] .colab-df-convert:hover {\n",
              "      background-color: #434B5C;\n",
              "      box-shadow: 0px 1px 3px 1px rgba(0, 0, 0, 0.15);\n",
              "      filter: drop-shadow(0px 1px 2px rgba(0, 0, 0, 0.3));\n",
              "      fill: #FFFFFF;\n",
              "    }\n",
              "  </style>\n",
              "\n",
              "    <script>\n",
              "      const buttonEl =\n",
              "        document.querySelector('#df-bc9a7361-b658-46c0-9b77-f2b631a74198 button.colab-df-convert');\n",
              "      buttonEl.style.display =\n",
              "        google.colab.kernel.accessAllowed ? 'block' : 'none';\n",
              "\n",
              "      async function convertToInteractive(key) {\n",
              "        const element = document.querySelector('#df-bc9a7361-b658-46c0-9b77-f2b631a74198');\n",
              "        const dataTable =\n",
              "          await google.colab.kernel.invokeFunction('convertToInteractive',\n",
              "                                                    [key], {});\n",
              "        if (!dataTable) return;\n",
              "\n",
              "        const docLinkHtml = 'Like what you see? Visit the ' +\n",
              "          '<a target=\"_blank\" href=https://colab.research.google.com/notebooks/data_table.ipynb>data table notebook</a>'\n",
              "          + ' to learn more about interactive tables.';\n",
              "        element.innerHTML = '';\n",
              "        dataTable['output_type'] = 'display_data';\n",
              "        await google.colab.output.renderOutput(dataTable, element);\n",
              "        const docLink = document.createElement('div');\n",
              "        docLink.innerHTML = docLinkHtml;\n",
              "        element.appendChild(docLink);\n",
              "      }\n",
              "    </script>\n",
              "  </div>\n",
              "\n",
              "\n",
              "<div id=\"df-08f31f5a-2b63-4b39-85f1-095b5cce445d\">\n",
              "  <button class=\"colab-df-quickchart\" onclick=\"quickchart('df-08f31f5a-2b63-4b39-85f1-095b5cce445d')\"\n",
              "            title=\"Suggest charts\"\n",
              "            style=\"display:none;\">\n",
              "\n",
              "<svg xmlns=\"http://www.w3.org/2000/svg\" height=\"24px\"viewBox=\"0 0 24 24\"\n",
              "     width=\"24px\">\n",
              "    <g>\n",
              "        <path d=\"M19 3H5c-1.1 0-2 .9-2 2v14c0 1.1.9 2 2 2h14c1.1 0 2-.9 2-2V5c0-1.1-.9-2-2-2zM9 17H7v-7h2v7zm4 0h-2V7h2v10zm4 0h-2v-4h2v4z\"/>\n",
              "    </g>\n",
              "</svg>\n",
              "  </button>\n",
              "\n",
              "<style>\n",
              "  .colab-df-quickchart {\n",
              "      --bg-color: #E8F0FE;\n",
              "      --fill-color: #1967D2;\n",
              "      --hover-bg-color: #E2EBFA;\n",
              "      --hover-fill-color: #174EA6;\n",
              "      --disabled-fill-color: #AAA;\n",
              "      --disabled-bg-color: #DDD;\n",
              "  }\n",
              "\n",
              "  [theme=dark] .colab-df-quickchart {\n",
              "      --bg-color: #3B4455;\n",
              "      --fill-color: #D2E3FC;\n",
              "      --hover-bg-color: #434B5C;\n",
              "      --hover-fill-color: #FFFFFF;\n",
              "      --disabled-bg-color: #3B4455;\n",
              "      --disabled-fill-color: #666;\n",
              "  }\n",
              "\n",
              "  .colab-df-quickchart {\n",
              "    background-color: var(--bg-color);\n",
              "    border: none;\n",
              "    border-radius: 50%;\n",
              "    cursor: pointer;\n",
              "    display: none;\n",
              "    fill: var(--fill-color);\n",
              "    height: 32px;\n",
              "    padding: 0;\n",
              "    width: 32px;\n",
              "  }\n",
              "\n",
              "  .colab-df-quickchart:hover {\n",
              "    background-color: var(--hover-bg-color);\n",
              "    box-shadow: 0 1px 2px rgba(60, 64, 67, 0.3), 0 1px 3px 1px rgba(60, 64, 67, 0.15);\n",
              "    fill: var(--button-hover-fill-color);\n",
              "  }\n",
              "\n",
              "  .colab-df-quickchart-complete:disabled,\n",
              "  .colab-df-quickchart-complete:disabled:hover {\n",
              "    background-color: var(--disabled-bg-color);\n",
              "    fill: var(--disabled-fill-color);\n",
              "    box-shadow: none;\n",
              "  }\n",
              "\n",
              "  .colab-df-spinner {\n",
              "    border: 2px solid var(--fill-color);\n",
              "    border-color: transparent;\n",
              "    border-bottom-color: var(--fill-color);\n",
              "    animation:\n",
              "      spin 1s steps(1) infinite;\n",
              "  }\n",
              "\n",
              "  @keyframes spin {\n",
              "    0% {\n",
              "      border-color: transparent;\n",
              "      border-bottom-color: var(--fill-color);\n",
              "      border-left-color: var(--fill-color);\n",
              "    }\n",
              "    20% {\n",
              "      border-color: transparent;\n",
              "      border-left-color: var(--fill-color);\n",
              "      border-top-color: var(--fill-color);\n",
              "    }\n",
              "    30% {\n",
              "      border-color: transparent;\n",
              "      border-left-color: var(--fill-color);\n",
              "      border-top-color: var(--fill-color);\n",
              "      border-right-color: var(--fill-color);\n",
              "    }\n",
              "    40% {\n",
              "      border-color: transparent;\n",
              "      border-right-color: var(--fill-color);\n",
              "      border-top-color: var(--fill-color);\n",
              "    }\n",
              "    60% {\n",
              "      border-color: transparent;\n",
              "      border-right-color: var(--fill-color);\n",
              "    }\n",
              "    80% {\n",
              "      border-color: transparent;\n",
              "      border-right-color: var(--fill-color);\n",
              "      border-bottom-color: var(--fill-color);\n",
              "    }\n",
              "    90% {\n",
              "      border-color: transparent;\n",
              "      border-bottom-color: var(--fill-color);\n",
              "    }\n",
              "  }\n",
              "</style>\n",
              "\n",
              "  <script>\n",
              "    async function quickchart(key) {\n",
              "      const quickchartButtonEl =\n",
              "        document.querySelector('#' + key + ' button');\n",
              "      quickchartButtonEl.disabled = true;  // To prevent multiple clicks.\n",
              "      quickchartButtonEl.classList.add('colab-df-spinner');\n",
              "      try {\n",
              "        const charts = await google.colab.kernel.invokeFunction(\n",
              "            'suggestCharts', [key], {});\n",
              "      } catch (error) {\n",
              "        console.error('Error during call to suggestCharts:', error);\n",
              "      }\n",
              "      quickchartButtonEl.classList.remove('colab-df-spinner');\n",
              "      quickchartButtonEl.classList.add('colab-df-quickchart-complete');\n",
              "    }\n",
              "    (() => {\n",
              "      let quickchartButtonEl =\n",
              "        document.querySelector('#df-08f31f5a-2b63-4b39-85f1-095b5cce445d button');\n",
              "      quickchartButtonEl.style.display =\n",
              "        google.colab.kernel.accessAllowed ? 'block' : 'none';\n",
              "    })();\n",
              "  </script>\n",
              "</div>\n",
              "\n",
              "    </div>\n",
              "  </div>\n"
            ],
            "application/vnd.google.colaboratory.intrinsic+json": {
              "type": "dataframe",
              "summary": "{\n  \"name\": \"data\",\n  \"rows\": 8,\n  \"fields\": [\n    {\n      \"column\": \"X\",\n      \"properties\": {\n        \"dtype\": \"number\",\n        \"std\": 3.3052683493128554,\n        \"min\": 1.0,\n        \"max\": 10.0,\n        \"num_unique_values\": 6,\n        \"samples\": [\n          10.0,\n          5.5,\n          7.75\n        ],\n        \"semantic_type\": \"\",\n        \"description\": \"\"\n      }\n    }\n  ]\n}"
            }
          },
          "metadata": {},
          "execution_count": 8
        }
      ]
    },
    {
      "cell_type": "markdown",
      "source": [
        "## Pregunta c)\n",
        "## ¿Por qué el resultado de calcular la desviación estándar con Numpy es diferente al calculado por describe de Pandas?\n",
        "## ¿Qué ajuste sería necesario para que los resultados sean iguales?"
      ],
      "metadata": {
        "id": "dbGlnfrvYgIz"
      }
    },
    {
      "cell_type": "markdown",
      "source": [
        "### Explicación"
      ],
      "metadata": {
        "id": "QmjOA4PrY_37"
      }
    },
    {
      "cell_type": "markdown",
      "source": [
        "Por defecto, Numpy calcula la desviación estándar con ddof=0 (para la población) y Pandas describe() calcula la desviación estándar con ddof=1 (para la muestra)"
      ],
      "metadata": {
        "id": "8eq5PYGxZCG7"
      }
    },
    {
      "cell_type": "markdown",
      "source": [
        "### Codigo"
      ],
      "metadata": {
        "id": "9jOLBHxlZEgD"
      }
    },
    {
      "cell_type": "code",
      "source": [
        "import numpy as np\n",
        "\n",
        "# Datos de la variable X\n",
        "X = np.array([1, 2, 3, 4, 5, 6, 7, 8, 9, 10])\n",
        "\n",
        "# Cálculos\n",
        "media = np.mean(X)\n",
        "mediana = np.median(X)\n",
        "desviacion_estandar = np.std(X, ddof=1)  # Cambio de ddof=0 a ddof=1\n",
        "varianza = np.var(X, ddof=1)             # Cambio de ddof=0 a ddof=1\n",
        "Minimo = np.min(X)\n",
        "Maximo = np.max(X)\n",
        "\n",
        "print(f\"Media: {media}\")\n",
        "print(f\"Mediana: {mediana}\")\n",
        "print(f\"Desviación estándar muestral: {desviacion_estandar}\"+\" CAMBIO\")\n",
        "print(f\"Varianza muestral: {varianza}\")\n",
        "print(f\"Minimo: {Minimo}\")\n",
        "print(f\"Maximo: {Maximo}\")"
      ],
      "metadata": {
        "colab": {
          "base_uri": "https://localhost:8080/"
        },
        "id": "P5Nz_hyJYlF7",
        "outputId": "92605200-1b4b-4883-c5d7-cc477c062ec7"
      },
      "execution_count": 18,
      "outputs": [
        {
          "output_type": "stream",
          "name": "stdout",
          "text": [
            "Media: 5.5\n",
            "Mediana: 5.5\n",
            "Desviación estándar muestral: 3.0276503540974917 CAMBIO\n",
            "Varianza muestral: 9.166666666666666\n",
            "Minimo: 1\n",
            "Maximo: 10\n"
          ]
        }
      ]
    },
    {
      "cell_type": "markdown",
      "source": [
        "## Pregunta d)\n",
        "## Estandarizar la variable mediante rangos y calcular la media y la mediana de la variable escalada."
      ],
      "metadata": {
        "id": "EvQ9Pe4EZpAi"
      }
    },
    {
      "cell_type": "code",
      "source": [
        "from sklearn.preprocessing import MinMaxScaler\n",
        "\n",
        "# Escalamiento por rangos\n",
        "scaler = MinMaxScaler()\n",
        "X_scaled = scaler.fit_transform(X.reshape(-1, 1)).flatten()\n",
        "\n",
        "# Cálculo de media y mediana de la variable escalada\n",
        "media_escalada = np.mean(X_scaled)\n",
        "mediana_escalada = np.median(X_scaled)\n",
        "\n",
        "print(f\"Media (escalada por rangos): {media_escalada}\")\n",
        "print(f\"Mediana (escalada por rangos): {mediana_escalada}\")\n"
      ],
      "metadata": {
        "colab": {
          "base_uri": "https://localhost:8080/"
        },
        "id": "R0xwCDGKZrla",
        "outputId": "6a137979-858f-45b0-b593-169de99297af"
      },
      "execution_count": 14,
      "outputs": [
        {
          "output_type": "stream",
          "name": "stdout",
          "text": [
            "Media (escalada por rangos): 0.5\n",
            "Mediana (escalada por rangos): 0.5\n"
          ]
        }
      ]
    },
    {
      "cell_type": "markdown",
      "source": [
        "## Pregunta e)\n",
        "## Repetir el cálculo con el escalamiento Z-score."
      ],
      "metadata": {
        "id": "JI2NWezJZyo7"
      }
    },
    {
      "cell_type": "markdown",
      "source": [
        "### Codigo"
      ],
      "metadata": {
        "id": "hfAHNVhaailq"
      }
    },
    {
      "cell_type": "code",
      "source": [
        "from sklearn.preprocessing import StandardScaler\n",
        "\n",
        "# Escalamiento Z-score\n",
        "scaler = StandardScaler()\n",
        "X_zscore = scaler.fit_transform(X.reshape(-1, 1)).flatten()\n",
        "\n",
        "# Cálculo de media y mediana de la variable escalada\n",
        "media_zscore = np.mean(X_zscore)\n",
        "mediana_zscore = np.median(X_zscore)\n",
        "\n",
        "print(f\"Media (escalada Z-score): {media_zscore}\")\n",
        "print(f\"Mediana (escalada Z-score): {mediana_zscore}\")\n"
      ],
      "metadata": {
        "colab": {
          "base_uri": "https://localhost:8080/"
        },
        "id": "jxUb2z7XZ1fb",
        "outputId": "fd584db1-ca31-4f9c-b062-a18a9bf57f94"
      },
      "execution_count": 15,
      "outputs": [
        {
          "output_type": "stream",
          "name": "stdout",
          "text": [
            "Media (escalada Z-score): -6.661338147750939e-17\n",
            "Mediana (escalada Z-score): 0.0\n"
          ]
        }
      ]
    },
    {
      "cell_type": "markdown",
      "source": [
        "### Explicación"
      ],
      "metadata": {
        "id": "fz7ubk9UagIy"
      }
    },
    {
      "cell_type": "markdown",
      "source": [
        "Esto ocurre porque el escalamiento Z-score centra los datos en 0 con una desviación estándar de 1. La media tiene un valor distinto de 0 pero muy proximo debido a errores de calculos por ser punto flotante"
      ],
      "metadata": {
        "id": "YCd2HwuhaLMb"
      }
    }
  ]
}