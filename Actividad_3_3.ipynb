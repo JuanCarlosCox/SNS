{
  "nbformat": 4,
  "nbformat_minor": 0,
  "metadata": {
    "colab": {
      "provenance": []
    },
    "kernelspec": {
      "name": "python3",
      "display_name": "Python 3"
    },
    "language_info": {
      "name": "python"
    }
  },
  "cells": [
    {
      "cell_type": "markdown",
      "source": [
        "# Codigo de validacion"
      ],
      "metadata": {
        "id": "CaALz9TPAGoP"
      }
    },
    {
      "cell_type": "code",
      "source": [
        "# Importación de datos y librerías necesarias\n",
        "import seaborn as sns\n",
        "import numpy as np\n",
        "import pandas as pd\n",
        "from sklearn.model_selection import train_test_split, cross_val_score\n",
        "from sklearn.naive_bayes import CategoricalNB, GaussianNB, MultinomialNB, ComplementNB, BernoulliNB\n",
        "from sklearn.metrics import accuracy_score\n",
        "\n",
        "# Cargar dataset\n",
        "iris = sns.load_dataset('iris')\n",
        "\n",
        "# Separar datos de entrada y salida\n",
        "X_iris = iris.drop('species', axis=1)\n",
        "y_iris = iris['species']\n",
        "\n",
        "# Separar datos de entrenamiento y prueba\n",
        "Xtrain, Xtest, ytrain, ytest = train_test_split(X_iris, y_iris, test_size=0.33, random_state=1)\n",
        "\n",
        "# Lista de modelos a probar\n",
        "models = {\n",
        "    \"CategoricalNB\": CategoricalNB(),\n",
        "    \"GaussianNB\": GaussianNB(),\n",
        "    \"MultinomialNB\": MultinomialNB(),\n",
        "    \"ComplementNB\": ComplementNB(),\n",
        "    \"BernoulliNB\": BernoulliNB()\n",
        "}\n",
        "\n",
        "# Transformar las etiquetas de ytrain y ytest a numéricas\n",
        "ytrain_encoded = ytrain.replace(['setosa', 'versicolor', 'virginica'], [0, 1, 2])\n",
        "ytest_encoded = ytest.replace(['setosa', 'versicolor', 'virginica'], [0, 1, 2])\n",
        "\n",
        "# Tabla de resultados\n",
        "results = {}\n",
        "\n",
        "# Evaluar cada modelo sin validación cruzada\n",
        "for name, model in models.items():\n",
        "    # Entrenar el modelo\n",
        "    model.fit(Xtrain, ytrain_encoded)\n",
        "    # Predecir\n",
        "    y_model = model.predict(Xtest)\n",
        "    # Calcular precisión\n",
        "    accuracy = accuracy_score(ytest_encoded, y_model)\n",
        "    results[name] = {\"Sin CrossValidation\": accuracy}\n",
        "\n",
        "# Evaluar cada modelo con validación cruzada\n",
        "for name, model in models.items():\n",
        "    # Validación cruzada con 5 pliegues\n",
        "    scores = cross_val_score(model, X_iris, y_iris.replace(['setosa', 'versicolor', 'virginica'], [0, 1, 2]), cv=5)\n",
        "    mean_score = np.mean(scores)\n",
        "    results[name][\"Con CrossValidation\"] = mean_score\n",
        "\n"
      ],
      "metadata": {
        "colab": {
          "base_uri": "https://localhost:8080/"
        },
        "id": "R1dpi9Za_IY6",
        "outputId": "b4265465-2ef1-49c8-f070-e0fb90f50017"
      },
      "execution_count": 4,
      "outputs": [
        {
          "output_type": "stream",
          "name": "stderr",
          "text": [
            "<ipython-input-4-2d2808e21aea>:29: FutureWarning: Downcasting behavior in `replace` is deprecated and will be removed in a future version. To retain the old behavior, explicitly call `result.infer_objects(copy=False)`. To opt-in to the future behavior, set `pd.set_option('future.no_silent_downcasting', True)`\n",
            "  ytrain_encoded = ytrain.replace(['setosa', 'versicolor', 'virginica'], [0, 1, 2])\n",
            "<ipython-input-4-2d2808e21aea>:30: FutureWarning: Downcasting behavior in `replace` is deprecated and will be removed in a future version. To retain the old behavior, explicitly call `result.infer_objects(copy=False)`. To opt-in to the future behavior, set `pd.set_option('future.no_silent_downcasting', True)`\n",
            "  ytest_encoded = ytest.replace(['setosa', 'versicolor', 'virginica'], [0, 1, 2])\n",
            "<ipython-input-4-2d2808e21aea>:48: FutureWarning: Downcasting behavior in `replace` is deprecated and will be removed in a future version. To retain the old behavior, explicitly call `result.infer_objects(copy=False)`. To opt-in to the future behavior, set `pd.set_option('future.no_silent_downcasting', True)`\n",
            "  scores = cross_val_score(model, X_iris, y_iris.replace(['setosa', 'versicolor', 'virginica'], [0, 1, 2]), cv=5)\n",
            "<ipython-input-4-2d2808e21aea>:48: FutureWarning: Downcasting behavior in `replace` is deprecated and will be removed in a future version. To retain the old behavior, explicitly call `result.infer_objects(copy=False)`. To opt-in to the future behavior, set `pd.set_option('future.no_silent_downcasting', True)`\n",
            "  scores = cross_val_score(model, X_iris, y_iris.replace(['setosa', 'versicolor', 'virginica'], [0, 1, 2]), cv=5)\n",
            "<ipython-input-4-2d2808e21aea>:48: FutureWarning: Downcasting behavior in `replace` is deprecated and will be removed in a future version. To retain the old behavior, explicitly call `result.infer_objects(copy=False)`. To opt-in to the future behavior, set `pd.set_option('future.no_silent_downcasting', True)`\n",
            "  scores = cross_val_score(model, X_iris, y_iris.replace(['setosa', 'versicolor', 'virginica'], [0, 1, 2]), cv=5)\n",
            "<ipython-input-4-2d2808e21aea>:48: FutureWarning: Downcasting behavior in `replace` is deprecated and will be removed in a future version. To retain the old behavior, explicitly call `result.infer_objects(copy=False)`. To opt-in to the future behavior, set `pd.set_option('future.no_silent_downcasting', True)`\n",
            "  scores = cross_val_score(model, X_iris, y_iris.replace(['setosa', 'versicolor', 'virginica'], [0, 1, 2]), cv=5)\n",
            "<ipython-input-4-2d2808e21aea>:48: FutureWarning: Downcasting behavior in `replace` is deprecated and will be removed in a future version. To retain the old behavior, explicitly call `result.infer_objects(copy=False)`. To opt-in to the future behavior, set `pd.set_option('future.no_silent_downcasting', True)`\n",
            "  scores = cross_val_score(model, X_iris, y_iris.replace(['setosa', 'versicolor', 'virginica'], [0, 1, 2]), cv=5)\n"
          ]
        }
      ]
    },
    {
      "cell_type": "markdown",
      "source": [
        "# Resultado"
      ],
      "metadata": {
        "id": "1oquL0usAAiR"
      }
    },
    {
      "cell_type": "code",
      "source": [
        "# Mostrar resultados finales en tabla\n",
        "df_results = pd.DataFrame(results).T\n",
        "df_results.columns = [\"Sin CrossValidation\", \"Con CrossValidation\"]\n",
        "print(df_results)"
      ],
      "metadata": {
        "colab": {
          "base_uri": "https://localhost:8080/"
        },
        "id": "LtS1DNvF__D8",
        "outputId": "a4319a7a-4a91-4740-eeb9-fd2e610c3910"
      },
      "execution_count": 3,
      "outputs": [
        {
          "output_type": "stream",
          "name": "stdout",
          "text": [
            "               Sin CrossValidation  Con CrossValidation\n",
            "CategoricalNB                 0.98             0.926667\n",
            "GaussianNB                    0.94             0.953333\n",
            "MultinomialNB                 0.64             0.953333\n",
            "ComplementNB                  0.62             0.666667\n",
            "BernoulliNB                   0.28             0.333333\n"
          ]
        }
      ]
    }
  ]
}